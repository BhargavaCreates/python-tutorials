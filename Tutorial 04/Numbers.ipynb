{
 "cells": [
  {
   "cell_type": "markdown",
   "metadata": {
    "slideshow": {
     "slide_type": "slide"
    }
   },
   "source": [
    "### <a name='numbers'></a>Numbers\n",
    "Dealing with simple numerical data is fairly straightforward in Python, but there are a few things you should know about."
   ]
  },
  {
   "cell_type": "markdown",
   "metadata": {
    "slideshow": {
     "slide_type": "subslide"
    }
   },
   "source": [
    "<a name='integers'></a>Basic Arthematic Operations on Integers\n",
    "---\n",
    "You can do all of the basic operations with integers, and everything should behave as you expect. Addition and subtraction use the standard plus and minus symbols. Multiplication uses the asterisk, and division uses a forward slash. Exponents use two asterisks."
   ]
  },
  {
   "cell_type": "code",
   "execution_count": 1,
   "metadata": {
    "slideshow": {
     "slide_type": "subslide"
    }
   },
   "outputs": [
    {
     "data": {
      "text/plain": [
       "7"
      ]
     },
     "execution_count": 1,
     "metadata": {},
     "output_type": "execute_result"
    }
   ],
   "source": [
    "2 + 5 "
   ]
  },
  {
   "cell_type": "code",
   "execution_count": 2,
   "metadata": {
    "slideshow": {
     "slide_type": "fragment"
    }
   },
   "outputs": [
    {
     "data": {
      "text/plain": [
       "3"
      ]
     },
     "execution_count": 2,
     "metadata": {},
     "output_type": "execute_result"
    }
   ],
   "source": [
    "7 - 4"
   ]
  },
  {
   "cell_type": "code",
   "execution_count": 3,
   "metadata": {
    "scrolled": true,
    "slideshow": {
     "slide_type": "fragment"
    }
   },
   "outputs": [
    {
     "data": {
      "text/plain": [
       "50"
      ]
     },
     "execution_count": 3,
     "metadata": {},
     "output_type": "execute_result"
    }
   ],
   "source": [
    "5*10"
   ]
  },
  {
   "cell_type": "code",
   "execution_count": 4,
   "metadata": {},
   "outputs": [
    {
     "data": {
      "text/plain": [
       "5.0"
      ]
     },
     "execution_count": 4,
     "metadata": {},
     "output_type": "execute_result"
    }
   ],
   "source": [
    "10/2"
   ]
  },
  {
   "cell_type": "code",
   "execution_count": 5,
   "metadata": {
    "slideshow": {
     "slide_type": "fragment"
    }
   },
   "outputs": [
    {
     "data": {
      "text/plain": [
       "4"
      ]
     },
     "execution_count": 5,
     "metadata": {},
     "output_type": "execute_result"
    }
   ],
   "source": [
    "2**2"
   ]
  },
  {
   "cell_type": "markdown",
   "metadata": {
    "slideshow": {
     "slide_type": "subslide"
    }
   },
   "source": [
    "You can use parenthesis to modify the standard order of operations."
   ]
  },
  {
   "cell_type": "code",
   "execution_count": 6,
   "metadata": {
    "slideshow": {
     "slide_type": "fragment"
    }
   },
   "outputs": [
    {
     "name": "stdout",
     "output_type": "stream",
     "text": [
      "14\n"
     ]
    }
   ],
   "source": [
    "standard_order = 2+3*4 # B O D M A S \n",
    "print(standard_order)"
   ]
  },
  {
   "cell_type": "code",
   "execution_count": 7,
   "metadata": {
    "slideshow": {
     "slide_type": "fragment"
    }
   },
   "outputs": [
    {
     "name": "stdout",
     "output_type": "stream",
     "text": [
      "20\n"
     ]
    }
   ],
   "source": [
    "my_order = (2+3)*4\n",
    "print(my_order)"
   ]
  },
  {
   "cell_type": "code",
   "execution_count": 10,
   "metadata": {},
   "outputs": [
    {
     "name": "stdout",
     "output_type": "stream",
     "text": [
      "a + b = 11\n"
     ]
    }
   ],
   "source": [
    "# a = 5, b = 6, print a + b = {sum}.\n",
    "\n",
    "a = 5 \n",
    "\n",
    "b = 6 \n",
    "\n",
    "c = a + b \n",
    "\n",
    "print(\"a + b = \" + str(c))\n"
   ]
  },
  {
   "cell_type": "markdown",
   "metadata": {},
   "source": [
    "## Mathematical Functions in Python\n",
    "Python offers modules like <b>Math</b> and <b>Random</b> to carry out different mathematics like trigonometry, logarithms, probability and statistics, etc."
   ]
  },
  {
   "cell_type": "code",
   "execution_count": 11,
   "metadata": {},
   "outputs": [],
   "source": [
    "import math"
   ]
  },
  {
   "cell_type": "code",
   "execution_count": 12,
   "metadata": {},
   "outputs": [
    {
     "name": "stdout",
     "output_type": "stream",
     "text": [
      "3.141592653589793\n",
      "2.718281828459045\n"
     ]
    }
   ],
   "source": [
    "# CONSTANTS in Math Module\n",
    "\n",
    "print(math.pi) #Return the value of pi\n",
    "\n",
    "print(math.e)  #Return the value of natural base e"
   ]
  },
  {
   "cell_type": "markdown",
   "metadata": {},
   "source": [
    "- <b>math.fabs(x)</b>     >> Return the absolute value of a number."
   ]
  },
  {
   "cell_type": "code",
   "execution_count": 13,
   "metadata": {},
   "outputs": [
    {
     "name": "stdout",
     "output_type": "stream",
     "text": [
      "2.42\n"
     ]
    }
   ],
   "source": [
    "print(math.fabs(-2.42)) "
   ]
  },
  {
   "cell_type": "markdown",
   "metadata": {},
   "source": [
    "- <b>math.floor(x)</b>     >> Return the Floor value. It is the largest integer, less or equal to the number x."
   ]
  },
  {
   "cell_type": "code",
   "execution_count": 14,
   "metadata": {},
   "outputs": [
    {
     "name": "stdout",
     "output_type": "stream",
     "text": [
      "23\n"
     ]
    }
   ],
   "source": [
    "print(math.floor(23.52)) "
   ]
  },
  {
   "cell_type": "markdown",
   "metadata": {},
   "source": [
    "- <b>math.ceil(x)</b>     >> Return the Ceiling value. It is the smallest integer, greater or equal to the number x."
   ]
  },
  {
   "cell_type": "code",
   "execution_count": 15,
   "metadata": {},
   "outputs": [
    {
     "name": "stdout",
     "output_type": "stream",
     "text": [
      "24\n"
     ]
    }
   ],
   "source": [
    "print(math.ceil(23.52)) "
   ]
  },
  {
   "cell_type": "markdown",
   "metadata": {},
   "source": [
    "## Power and Logarithmic Functions\n",
    "### These functions are used to calculate different power related and logarithmic related tasks.\n",
    "---\n",
    "- <b>math.pow(x, y)</b>     >> Return the x to the power y value.\n",
    "\n",
    "- <b>math.sqrt(x)</b>            >> Finds the square root of x.\n",
    "\n",
    "- <b>math.exp(x)</b>             >> Finds e^x, where e = 2.718281.\n",
    "\n",
    "- <b>math.log(x[, base])</b>     >> Returns the Log of x, where base is given. The default base is e."
   ]
  },
  {
   "cell_type": "code",
   "execution_count": 16,
   "metadata": {},
   "outputs": [
    {
     "name": "stdout",
     "output_type": "stream",
     "text": [
      "The value of 5^8: 390625.0\n"
     ]
    }
   ],
   "source": [
    "#code here math.pow(5, 8)\n",
    "\n",
    "value = math.pow(5,8)\n",
    "\n",
    "print('The value of 5^8: ' + str(value))"
   ]
  },
  {
   "cell_type": "code",
   "execution_count": 17,
   "metadata": {},
   "outputs": [
    {
     "name": "stdout",
     "output_type": "stream",
     "text": [
      "Square root of 400: 20.0\n"
     ]
    }
   ],
   "source": [
    "#code here math.sqrt(400)\n",
    "\n",
    "value = math.sqrt(400)\n",
    "\n",
    "print('Square root of 400: ' + str(value))"
   ]
  },
  {
   "cell_type": "code",
   "execution_count": 19,
   "metadata": {},
   "outputs": [
    {
     "name": "stdout",
     "output_type": "stream",
     "text": [
      "The value of e^5: 148.4131591025766\n"
     ]
    }
   ],
   "source": [
    "#code here math.exp(5)\n",
    "\n",
    "value = math.exp(5)\n",
    "\n",
    "print('The value of e^5: ' + str(value))"
   ]
  },
  {
   "cell_type": "code",
   "execution_count": 20,
   "metadata": {},
   "outputs": [
    {
     "name": "stdout",
     "output_type": "stream",
     "text": [
      "The value of Log(625), base 5: 4.0\n"
     ]
    }
   ],
   "source": [
    "#code here math.log(625, 5)\n",
    "\n",
    "value = math.log(625,5)\n",
    "\n",
    "print('The value of Log(625), base 5: ' + str(value))"
   ]
  },
  {
   "cell_type": "markdown",
   "metadata": {},
   "source": [
    "## Trigonometric & Angular Conversion Functions\n",
    "### These functions are used to calculate different trigonometric operations.\n",
    "---\n",
    "- <b>math.degrees(x)</b>     >> Convert angle x from radian to degrees.\n",
    "- <b>math.radians(x)</b>     >> Convert angle x from degrees to randian.\n",
    "- <b>math.sin(x)</b>     >> Return the sine of x in radians.\n",
    "- <b>math.cos(x)</b>     >> Return the cosine of x in radians.\n",
    "- <b>math.tan(x)</b>     >> Return the tangent of x in radians which is also (sin(x)/cos(x))."
   ]
  },
  {
   "cell_type": "code",
   "execution_count": 22,
   "metadata": {},
   "outputs": [
    {
     "data": {
      "text/plain": [
       "1.5707963267948966"
      ]
     },
     "execution_count": 22,
     "metadata": {},
     "output_type": "execute_result"
    }
   ],
   "source": [
    "math.radians(90)"
   ]
  },
  {
   "cell_type": "code",
   "execution_count": 23,
   "metadata": {},
   "outputs": [
    {
     "name": "stdout",
     "output_type": "stream",
     "text": [
      "The value of Sin(60 degree): 0.8660254037844386\n"
     ]
    }
   ],
   "source": [
    "#code here math.sign(math.radian(60))\n",
    "\n",
    "value = math.sin(math.radians(60))\n",
    "\n",
    "print('The value of Sin(60 degree): ' + str(value))"
   ]
  },
  {
   "cell_type": "code",
   "execution_count": 24,
   "metadata": {},
   "outputs": [
    {
     "name": "stdout",
     "output_type": "stream",
     "text": [
      "The value of cos(pi): -1.0\n"
     ]
    }
   ],
   "source": [
    "#code here math.cos(math.pi)\n",
    "\n",
    "value = math.cos(math.pi)\n",
    "\n",
    "print('The value of cos(pi): ' + str(value))"
   ]
  },
  {
   "cell_type": "code",
   "execution_count": 25,
   "metadata": {},
   "outputs": [
    {
     "name": "stdout",
     "output_type": "stream",
     "text": [
      "The value of tan(90 degree): 1.633123935319537e+16\n"
     ]
    }
   ],
   "source": [
    "#code here math.tan(math.pi/2)\n",
    "\n",
    "value = math.tan(math.radians(90))\n",
    "\n",
    "print('The value of tan(90 degree): ' + str(value))"
   ]
  },
  {
   "cell_type": "markdown",
   "metadata": {},
   "source": [
    "# Thank you so much !! "
   ]
  }
 ],
 "metadata": {
  "kernelspec": {
   "display_name": "Python 3",
   "language": "python",
   "name": "python3"
  },
  "language_info": {
   "codemirror_mode": {
    "name": "ipython",
    "version": 3
   },
   "file_extension": ".py",
   "mimetype": "text/x-python",
   "name": "python",
   "nbconvert_exporter": "python",
   "pygments_lexer": "ipython3",
   "version": "3.8.3"
  }
 },
 "nbformat": 4,
 "nbformat_minor": 1
}
